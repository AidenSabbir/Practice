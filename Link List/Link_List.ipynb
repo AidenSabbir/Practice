{
 "cells": [
  {
   "cell_type": "code",
   "execution_count": 24,
   "id": "052dc364",
   "metadata": {},
   "outputs": [
    {
     "name": "stdout",
     "output_type": "stream",
     "text": [
      "[2, 'data', 'hello']\n",
      "Length of list is 3\n",
      "[2, 'new data', 'data', 'hello']\n",
      "Length of list is 4\n"
     ]
    }
   ],
   "source": [
    "class Node:\n",
    "    def __init__(self, data=None):\n",
    "        self.data = data\n",
    "        self.next = None\n",
    "class Link_list:\n",
    "    def __init__(self):\n",
    "        self.head = Node()\n",
    "    def add(self,data):\n",
    "        new_node = Node(data)\n",
    "        cur = self.head\n",
    "        while cur.next != None:\n",
    "            cur = cur.next\n",
    "        cur.next = new_node\n",
    "    def add_after(self,target,data):\n",
    "        cur = self.head.next\n",
    "        while cur:\n",
    "            if cur.data == target:\n",
    "                new_node = Node(data)\n",
    "                new_node.next = cur.next\n",
    "                cur.next = new_node\n",
    "                return\n",
    "            cur = cur.next\n",
    "        print('target not found')\n",
    "\n",
    "    def remove(self,value):\n",
    "        prev = self.head\n",
    "        cur = self.head.next\n",
    "        while cur:\n",
    "            if cur.data == value:\n",
    "                prev.next = cur.next\n",
    "                return\n",
    "            else:\n",
    "                prev = cur\n",
    "                cur = cur.next\n",
    "    def length(self):\n",
    "        l = 0\n",
    "        cur = self.head.next\n",
    "        while cur:\n",
    "            l += 1\n",
    "            cur = cur.next\n",
    "        print(f\"Length of list is {l}\")\n",
    "    def display(self):\n",
    "        elem = []\n",
    "        cur = self.head.next\n",
    "        while cur:\n",
    "            elem.append(cur.data)\n",
    "            cur=cur.next\n",
    "        print(elem)\n",
    "\n",
    "\n",
    "link = Link_list()\n",
    "\n",
    "link.add(2)\n",
    "link.add('data')\n",
    "link.add(\"hello\")\n",
    "link.display()\n",
    "link.length()\n",
    "link.add_after(2,'new data')\n",
    "link.display()\n",
    "link.length()"
   ]
  },
  {
   "cell_type": "code",
   "execution_count": null,
   "id": "311c5a5b",
   "metadata": {},
   "outputs": [],
   "source": []
  }
 ],
 "metadata": {
  "kernelspec": {
   "display_name": ".venv",
   "language": "python",
   "name": "python3"
  },
  "language_info": {
   "codemirror_mode": {
    "name": "ipython",
    "version": 3
   },
   "file_extension": ".py",
   "mimetype": "text/x-python",
   "name": "python",
   "nbconvert_exporter": "python",
   "pygments_lexer": "ipython3",
   "version": "3.12.0"
  }
 },
 "nbformat": 4,
 "nbformat_minor": 5
}
